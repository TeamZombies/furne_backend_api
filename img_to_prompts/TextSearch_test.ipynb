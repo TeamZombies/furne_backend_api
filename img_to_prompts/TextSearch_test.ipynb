{
 "cells": [
  {
   "cell_type": "markdown",
   "metadata": {},
   "source": [
    "https://www.geeksforgeeks.org/performing-google-search-using-python-code/"
   ]
  },
  {
   "cell_type": "code",
   "execution_count": null,
   "metadata": {},
   "outputs": [],
   "source": [
    "!pip install beautifulsoup4"
   ]
  },
  {
   "cell_type": "code",
   "execution_count": null,
   "metadata": {},
   "outputs": [],
   "source": [
    "!pip install google"
   ]
  },
  {
   "cell_type": "code",
   "execution_count": 2,
   "metadata": {},
   "outputs": [],
   "source": [
    "import random\n",
    "from googlesearch import search\n",
    "\n"
   ]
  },
  {
   "cell_type": "code",
   "execution_count": 3,
   "metadata": {},
   "outputs": [
    {
     "name": "stdout",
     "output_type": "stream",
     "text": [
      "https://www.wayfair.com/furniture/sb2/blue-leather-accent-chairs-c416225-a471~4751-a75218~274795.html\n",
      "https://www.amazon.com/Blue-Leather-Chair/s?k=Blue+Leather+Chair\n",
      "https://www.houzz.com/products/chairs/color--Blue/material_fabric--Leather\n",
      "https://www.macys.com/shop/b/leather-arm-chairs/Color_normal/Blue?id=76187\n",
      "https://www.target.com/s/blue+leather+chair\n",
      "https://www.scandesign.com/products/rene-swivel-chair-blue-leather\n",
      "https://www.perigold.com/keyword.php?keyword=blue+leather+accent+chair\n",
      "https://www.article.com/product/21008/sven-oxford-blue-chair\n",
      "https://www.bedbathandbeyond.com/Home-Garden/Living-Room-Chairs/Blue,Leather,/color,material,/2737/subcat.html?ostk=true\n",
      "https://www.walmart.com/browse/home/leather-accent-chairs/blue/4044_103150_4038_7389568_3422924/Y29sb3I6Qmx1ZQieie\n"
     ]
    }
   ],
   "source": [
    "# to search\n",
    "query = \"modern blue leather chair\"\n",
    " \n",
    "for j in search(query, tld=\"co.in\", num=10, stop=10, pause=2):\n",
    "    print(j)"
   ]
  },
  {
   "cell_type": "code",
   "execution_count": 4,
   "metadata": {},
   "outputs": [
    {
     "name": "stdout",
     "output_type": "stream",
     "text": [
      "https://www.ikea.com/us/en/cat/chairs-fu002/f/blue-chairs-co006/\n",
      "https://www.ikea.com/us/en/cat/chairs-fu002/f/leather-chairs-ma039/\n",
      "https://www.ikea.com/us/en/cat/sofas-sectionals-fu003/f/blue-sofa-co006/\n",
      "https://www.ikea.com/us/en/cat/chairs-fu002/f/blue-chairs-co006/?page=2\n",
      "https://www.ikea.com/us/en/cat/leather-coated-fabric-sofas-10662/\n",
      "https://www.ikea.com/au/en/cat/chairs-fu002/f/blue-chairs-co006/?page=6\n",
      "https://www.ikea.com/us/en/cat/armchairs-chaises-fu006/\n",
      "https://www.ikea.com/at/en/cat/chairs-fu002/f/blue-chairs-co006/\n",
      "https://www.ikea.com/us/en/cat/morabo-series-47154/\n",
      "https://www.ikea.com/us/en/cat/dining-chairs-25219/\n"
     ]
    }
   ],
   "source": [
    "# to search\n",
    "query = \"site:ikea.com modern blue leather chair\"\n",
    " \n",
    "for j in search(query, tld=\"co.in\", num=10, stop=10, pause=2):\n",
    "    print(j)"
   ]
  },
  {
   "cell_type": "code",
   "execution_count": 13,
   "metadata": {},
   "outputs": [
    {
     "name": "stdout",
     "output_type": "stream",
     "text": [
      "https://www.ikea.com/us/en/cat/chairs-fu002/f/leather-chairs-ma039/\n",
      "https://www.bernieandphyls.com/caruso-admiral-blue-7097-001-chair.html\n",
      "https://store.hermanmiller.com/living-room-furniture-lounge-chairs-ottomans?lang=en_US\n",
      "https://www.target.com/s/blue+leather+chair\n",
      "https://www.steelcase.com/products/lounge-chairs/thoughtful-lounge-seating/\n"
     ]
    }
   ],
   "source": [
    "product_description = \"modern blue leather chair\"\n",
    "\n",
    "sites = ['ikea.com', 'bernieandphyls.com','hermanmiller.com','target.com','steelcase.com']\n",
    "\n",
    "for site in sites:\n",
    "    query = f'site:{site} {product_description}'\n",
    "    results = list(search(query, tld=\"co.in\", num=10, stop=10))\n",
    "    random_number = random.randint(0, 10)\n",
    "    print(results[random_number])"
   ]
  },
  {
   "cell_type": "code",
   "execution_count": null,
   "metadata": {},
   "outputs": [],
   "source": []
  }
 ],
 "metadata": {
  "kernelspec": {
   "display_name": "aec-hackathon",
   "language": "python",
   "name": "python3"
  },
  "language_info": {
   "codemirror_mode": {
    "name": "ipython",
    "version": 3
   },
   "file_extension": ".py",
   "mimetype": "text/x-python",
   "name": "python",
   "nbconvert_exporter": "python",
   "pygments_lexer": "ipython3",
   "version": "3.10.12"
  }
 },
 "nbformat": 4,
 "nbformat_minor": 2
}
